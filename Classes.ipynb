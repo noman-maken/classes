{
 "cells": [
  {
   "cell_type": "markdown",
   "metadata": {},
   "source": [
    "_____ is used to create an object.\n",
    "a) class\n",
    "b) constructor\n",
    "c) User-defined functions\n",
    "d) In-built functions\n",
    "\n",
    "The values assigned by the constructor to the class members is used to create the object."
   ]
  },
  {
   "cell_type": "code",
   "execution_count": 2,
   "metadata": {},
   "outputs": [
    {
     "name": "stdout",
     "output_type": "stream",
     "text": [
      "Hello World\n"
     ]
    }
   ],
   "source": [
    "class test:\n",
    "     def __init__(self,a=\"Hello World\"):\n",
    "         self.a=a\n",
    " \n",
    "     def display(self):\n",
    "         print(self.a)\n",
    "obj=test()\n",
    "obj.display()\n",
    "\n",
    "#The program has no error. “Hello World” is displayed. Execute in python shell to verify"
   ]
  },
  {
   "cell_type": "markdown",
   "metadata": {},
   "source": [
    "What is getattr() used for?\n",
    "a) To access the attribute of the object (Correct Answer)\n",
    "b) To delete an attribute\n",
    "c) To check if an attribute exists or not\n",
    "d) To set an attribute\n",
    "\n",
    "#getattr(obj,name) is used to get the attribute of an object."
   ]
  },
  {
   "cell_type": "code",
   "execution_count": 3,
   "metadata": {},
   "outputs": [
    {
     "name": "stdout",
     "output_type": "stream",
     "text": [
      "7\n"
     ]
    }
   ],
   "source": [
    "class change:\n",
    "    def __init__(self, x, y, z):\n",
    "        self.a = x + y + z\n",
    " \n",
    "x = change(1,2,3)\n",
    "y = getattr(x, 'a')\n",
    "setattr(x, 'a', y+1)\n",
    "print(x.a)\n",
    "\n",
    "#First, a=1+2+3=6. Then, after setattr() is invoked, x.a=6+1=7"
   ]
  },
  {
   "cell_type": "markdown",
   "metadata": {},
   "source": [
    " class test:\n",
    "     def __init__(self,a):\n",
    "         self.a=a\n",
    " \n",
    "     def display(self):\n",
    "         print(self.a)\n",
    "obj=test()\n",
    "obj.display()\n",
    "\n",
    "\n",
    "a) Runs normally, doesn’t display anything\n",
    "b) Displays 0, which is the automatic default value\n",
    "c) Error as one argument is required while creating the object\n",
    "d) Error as display function requires additional argument\n",
    "\n",
    "Since, the __init__ special method has another argument a other than self, during object creation, one argument is required. For example: obj=test(“Hello”)"
   ]
  },
  {
   "cell_type": "markdown",
   "metadata": {},
   "source": [
    "class A:\n",
    "    def __init__(self,b):\n",
    "        self.b=b\n",
    "    def display(self):\n",
    "        print(self.b)\n",
    "    obj=A(\"Hello\")\n",
    "    del obj\n",
    "\n",
    "#true or False\n",
    "#It is possible to delete an object of the class. \n",
    "#On further typing obj in the python shell, it throws an error because the defined object has now been deleted."
   ]
  },
  {
   "cell_type": "code",
   "execution_count": 9,
   "metadata": {},
   "outputs": [
    {
     "name": "stdout",
     "output_type": "stream",
     "text": [
      "Old\n"
     ]
    }
   ],
   "source": [
    "class test:\n",
    "    def __init__(self):\n",
    "        self.variable = 'Old'\n",
    "        self.Change(self.variable)\n",
    "    def Change(self, var):\n",
    "        var = 'New'\n",
    "obj=test()\n",
    "print(obj.variable)\n",
    "\n",
    "#This is because strings are immutable. Hence any change made isn’t reflected in the original string."
   ]
  },
  {
   "cell_type": "markdown",
   "metadata": {},
   "source": [
    "What is Instantiation in terms of OOP terminology?\n",
    "a) Deleting an instance of class\n",
    "b) Modifying an instance of class\n",
    "c) Copying an instance of class\n",
    "d) Creating an instance of class (Correct Answer)\n",
    "\n",
    "Instantiation refers to creating an object/instance for a class"
   ]
  },
  {
   "cell_type": "code",
   "execution_count": 10,
   "metadata": {},
   "outputs": [
    {
     "name": "stdout",
     "output_type": "stream",
     "text": [
      "13\n"
     ]
    }
   ],
   "source": [
    "class fruits:\n",
    "    def __init__(self, price):\n",
    "        self.price = price\n",
    "obj=fruits(50)\n",
    " \n",
    "obj.quantity=10\n",
    "obj.bags=2\n",
    " \n",
    "print(obj.quantity+len(obj.__dict__))\n",
    "\n",
    "#In the above code, obj.quantity has been initialised to 10. \n",
    "#There are a total of three items in the dictionary, price, quantity and bags. Hence, len(obj.__dict__) is 3."
   ]
  },
  {
   "cell_type": "code",
   "execution_count": 11,
   "metadata": {},
   "outputs": [
    {
     "name": "stdout",
     "output_type": "stream",
     "text": [
      "__main__\n"
     ]
    }
   ],
   "source": [
    " class Demo:\n",
    "    def __init__(self):\n",
    "        pass\n",
    " \n",
    "    def test(self):\n",
    "        print(__name__)\n",
    " \n",
    "obj = Demo()\n",
    "obj.test()\n",
    "\n",
    "# Since the above code is being run not as a result of an import from another module, the variable will have value “__main__”."
   ]
  }
 ],
 "metadata": {
  "kernelspec": {
   "display_name": "Python 3",
   "language": "python",
   "name": "python3"
  },
  "language_info": {
   "codemirror_mode": {
    "name": "ipython",
    "version": 3
   },
   "file_extension": ".py",
   "mimetype": "text/x-python",
   "name": "python",
   "nbconvert_exporter": "python",
   "pygments_lexer": "ipython3",
   "version": "3.7.6"
  }
 },
 "nbformat": 4,
 "nbformat_minor": 4
}
